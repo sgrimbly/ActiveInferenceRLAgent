{
 "cells": [
  {
   "cell_type": "markdown",
   "metadata": {},
   "source": [
    "# Affective Active Inference & RL Agent\n",
    "This will be a refactoring of R Hodson's agent from MATLAB to Python, with improvements made as needed. Notebooks are, in my opinion, much more useful for this type of development. I feel this is more useful for collaborators, especially those that are not technically (computationally) savvy. "
   ]
  },
  {
   "cell_type": "code",
   "execution_count": 1,
   "metadata": {},
   "outputs": [],
   "source": [
    "import numpy as np\n",
    "from pprint import pprint\n",
    "\n",
    "from helpers import randPos"
   ]
  },
  {
   "cell_type": "code",
   "execution_count": 2,
   "metadata": {},
   "outputs": [
    {
     "name": "stdout",
     "output_type": "stream",
     "text": [
      "[1, 2, 3, 4, 94]\n"
     ]
    }
   ],
   "source": [
    "# Test helper functions\n",
    "x = randPos([1,2,3,4])\n",
    "print(x)"
   ]
  },
  {
   "cell_type": "code",
   "execution_count": 3,
   "metadata": {},
   "outputs": [],
   "source": [
    "# Initial env conditions\n",
    "previous_positions = []\n",
    "food_locations = [7,9,19]\n",
    "resource_locations = [food_locations] # Only one resource here, so just food_locations.\n",
    "\n",
    "swamp_active = 0\n",
    "food_cutoff = 11\n",
    "water_cutoff = 8\n",
    "sleep_cutoff = 6\n",
    "\n",
    "num_actions = 5 # Up, down, left, right, nothing (?)\n",
    "num_states = 25\n",
    "num_states_low = 25\n",
    "Q_table = np.zeros(shape = (5,5,num_states_low)) # Create 5x5xnum_states_low matrix of zero elements"
   ]
  },
  {
   "cell_type": "markdown",
   "metadata": {},
   "source": [
    "## Distributions"
   ]
  },
  {
   "cell_type": "code",
   "execution_count": null,
   "metadata": {},
   "outputs": [],
   "source": [
    "A = [] # True likelihood function\n",
    "a = [] # Agent likelihood model\n",
    "B = [np.identity(num_states),np.zeros(shape=(num_actions,num_actions))] # True transitions model\n",
    "b = [] # Agent transitions model\n",
    "D = [] # Initial state distribution \n",
    "d = [] # Agent initial state distribution \n",
    "\n",
    "l = [] # Resource limits\n",
    "S_resources = [] # Resource locations\n",
    "T = [] # Number of trial time-steps "
   ]
  },
  {
   "cell_type": "code",
   "execution_count": null,
   "metadata": {},
   "outputs": [],
   "source": [
    "for action in range(5): # Loop over actions\n",
    "    "
   ]
  }
 ],
 "metadata": {
  "kernelspec": {
   "display_name": "Python 3.10.6 64-bit",
   "language": "python",
   "name": "python3"
  },
  "language_info": {
   "codemirror_mode": {
    "name": "ipython",
    "version": 3
   },
   "file_extension": ".py",
   "mimetype": "text/x-python",
   "name": "python",
   "nbconvert_exporter": "python",
   "pygments_lexer": "ipython3",
   "version": "3.10.6"
  },
  "orig_nbformat": 4,
  "vscode": {
   "interpreter": {
    "hash": "38089a57e4061a139b2fc29c732c6bd10450aeb4a7cc38570dfb3e1c588488d0"
   }
  }
 },
 "nbformat": 4,
 "nbformat_minor": 2
}

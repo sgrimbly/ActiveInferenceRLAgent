{
 "cells": [
  {
   "cell_type": "markdown",
   "metadata": {},
   "source": [
    "# Affective Active Inference & RL Agent\n",
    "This will be a refactoring of R Hodson's agent from MATLAB to Python, with improvements made as needed. Notebooks are, in my opinion, much more useful for this type of development. I feel this is more useful for collaborators, especially those that are not technically (computationally) savvy. "
   ]
  },
  {
   "cell_type": "code",
   "execution_count": null,
   "metadata": {},
   "outputs": [],
   "source": []
  }
 ],
 "metadata": {
  "kernelspec": {
   "display_name": "Python 3.10.6 64-bit",
   "language": "python",
   "name": "python3"
  },
  "language_info": {
   "name": "python",
   "version": "3.10.6"
  },
  "orig_nbformat": 4,
  "vscode": {
   "interpreter": {
    "hash": "38089a57e4061a139b2fc29c732c6bd10450aeb4a7cc38570dfb3e1c588488d0"
   }
  }
 },
 "nbformat": 4,
 "nbformat_minor": 2
}
